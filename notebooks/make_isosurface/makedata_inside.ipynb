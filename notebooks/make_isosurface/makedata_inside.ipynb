{
 "cells": [
  {
   "cell_type": "markdown",
   "metadata": {},
   "source": [
    "# バイナリデータの編集および作成の検討\n",
    "## 目標\n",
    "出力された体積率データの流路外部データを整備したデータをバイナリデータとして再作成する"
   ]
  },
  {
   "cell_type": "code",
   "execution_count": 2,
   "metadata": {},
   "outputs": [],
   "source": [
    "import struct\n",
    "import numpy as np\n",
    "import os\n",
    "import re"
   ]
  },
  {
   "cell_type": "code",
   "execution_count": 3,
   "metadata": {},
   "outputs": [],
   "source": [
    "# OPTIONAL: Load the \"autoreload\" extension so that code can change\n",
    "%load_ext autoreload\n",
    "\n",
    "# OPTIONAL: always reload modules so that as you change code in src, it gets loaded\n",
    "%autoreload 2"
   ]
  },
  {
   "cell_type": "code",
   "execution_count": 4,
   "metadata": {},
   "outputs": [],
   "source": [
    "from src import OpenFile"
   ]
  },
  {
   "cell_type": "code",
   "execution_count": 5,
   "metadata": {},
   "outputs": [
    {
     "name": "stdout",
     "output_type": "stream",
     "text": [
      "c:\\Users\\yucch\\00_workstation\\analysis_set_TPFIT\\.venv\\Scripts;C:\\Users\\yucch\\00_workstation\\analysis_set_TPFIT\\.venv\\Scripts;C:\\Program Files\\NVIDIA GPU Computing Toolkit\\CUDA\\v11.8\\bin;C:\\Program Files\\NVIDIA GPU Computing Toolkit\\CUDA\\v11.8\\libnvvp;C:\\Users\\yucch\\anaconda3;C:\\Users\\yucch\\anaconda3\\Scripts;C:\\Users\\yucch\\anaconda3\\Library\\bin;C:\\Windows\\system32;C:\\Windows;C:\\Windows\\System32\\Wbem;C:\\Windows\\System32\\WindowsPowerShell\\v1.0\\;C:\\Windows\\System32\\OpenSSH\\;C:\\MinGW\\bin;C:\\Program Files (x86)\\QuickTime\\QTSystem\\;C:\\Users\\yucch\\anaconda3\\python.exe;C:\\Program Files\\nodejs\\;C:\\Program Files (x86)\\NVIDIA Corporation\\PhysX\\Common;C:\\Program Files\\NVIDIA Corporation\\NVIDIA NvDLISR;C:\\Program Files\\dotnet\\;C:\\Program Files\\Git\\cmd;C:\\Program Files\\MATLAB\\R2022b\\bin;C:\\Program Files (x86)\\Windows Kits\\10\\Windows Performance Toolkit\\;C:\\Program Files\\NVIDIA Corporation\\Nsight Compute 2022.3.0\\;C:\\Users\\yucch\\anaconda3\\envs\\ultra\\Lib\\site-packages;;C:\\Program Files(x86)\\GnuWin32\\bin;C:\\Users\\yucch\\AppData\\Local\\Programs\\Python\\Python311\\Scripts\\;C:\\Users\\yucch\\AppData\\Local\\Programs\\Python\\Python311\\;C:��Windows��SysWow64��;C:\\Users\\yucch\\AppData\\Local\\Microsoft\\WindowsApps;C:\\Users\\yucch\\AppData\\Local\\atom\\bin;C:\\MinGW\\bin;C:\\Users\\yucch\\AppData\\Local\\Programs\\Microsoft VS Code\\bin;C:\\Users\\yucch\\AppData\\Roaming\\npm;C:\\Users\\yucch\\AppData\\Local\\GitHubDesktop\\bin;\n"
     ]
    }
   ],
   "source": [
    "echo %PATH%"
   ]
  },
  {
   "cell_type": "code",
   "execution_count": 28,
   "metadata": {},
   "outputs": [
    {
     "data": {
      "text/plain": [
       "'c:\\\\Users\\\\yucch\\\\00_workstation\\\\analysis_set_TPFIT\\\\notebooks'"
      ]
     },
     "execution_count": 28,
     "metadata": {},
     "output_type": "execute_result"
    }
   ],
   "source": [
    "#入力データのディレクトリ\n",
    "data_path=r\"E:\\1_Simulation\\2_Output\\TPFITV1728_Nakagawa\\orifice_case39g02\\avs\"\n",
    "# 現在のカレントディレクトリを取得します\n",
    "directory_path = os.getcwd()\n",
    "directory_path"
   ]
  },
  {
   "cell_type": "code",
   "execution_count": 40,
   "metadata": {},
   "outputs": [
    {
     "name": "stdout",
     "output_type": "stream",
     "text": [
      "Folder 'output' already exists in 'c:\\Users\\yucch\\00_workstation\\analysis_set_TPFIT\\notebooks'.\n",
      "output_path: c:\\Users\\yucch\\00_workstation\\analysis_set_TPFIT\\notebooks\\output\n"
     ]
    },
    {
     "data": {
      "text/plain": [
       "'orifice_case39g02'"
      ]
     },
     "execution_count": 40,
     "metadata": {},
     "output_type": "execute_result"
    }
   ],
   "source": [
    "t=OpenFile.make_folder(\"output\",directory_path)\n",
    "print(\"output_path:\", t)\n",
    "shared_name,data_files=OpenFile.get_shared_name(data_path)\n",
    "shared_name"
   ]
  },
  {
   "cell_type": "code",
   "execution_count": 43,
   "metadata": {},
   "outputs": [
    {
     "data": {
      "text/plain": [
       "'E:\\\\1_Simulation\\\\2_Output\\\\TPFITV1728_Nakagawa\\\\orifice_case39g02\\\\avs\\\\orifice_case39g02S_00000'"
      ]
     },
     "execution_count": 43,
     "metadata": {},
     "output_type": "execute_result"
    },
    {
     "ename": "",
     "evalue": "",
     "output_type": "error",
     "traceback": [
      "\u001b[1;31m現在のセルまたは前のセルでコードを実行中に、カーネル (Kernel) がクラッシュしました。\n",
      "\u001b[1;31mエラーの原因を特定するには、セル内のコードを確認してください。\n",
      "\u001b[1;31m詳細については<a href='https://aka.ms/vscodeJupyterKernelCrash'>こちら</a>をクリックします。\n",
      "\u001b[1;31m詳細については、Jupyter <a href='command:jupyter.viewOutput'>ログ</a> を参照してください。"
     ]
    }
   ],
   "source": [
    "struct_name=shared_name+\"S_00000\"\n",
    "struct_path=os.path.join(data_path,struct_name)\n",
    "struct_path"
   ]
  },
  {
   "cell_type": "code",
   "execution_count": 2,
   "metadata": {},
   "outputs": [],
   "source": [
    "def get_data_from_binary(filename):\n",
    "\n",
    "    #ファイル読み込み\n",
    "    with open(filename, 'rb') as file:\n",
    "        # バイナリデータを読み取り\n",
    "        binary_data_S = file.read()\n",
    "\n",
    "    # 単精度浮動小数点数に変換\n",
    "    float_list_S = struct.unpack('f' * (len(binary_data_S) // 4), binary_data_S)\n",
    "    return float_list_S\n"
   ]
  },
  {
   "cell_type": "code",
   "execution_count": null,
   "metadata": {},
   "outputs": [],
   "source": []
  },
  {
   "cell_type": "code",
   "execution_count": null,
   "metadata": {},
   "outputs": [],
   "source": [
    "filename_f=r\"C:/Users/yucch/00_workstation/analysis_set_TPFIT/notebooks\\data/case52g02F_00000\"\n",
    "filename_s=r\"C:/Users/yucch/00_workstation/analysis_set_TPFIT/notebooks\\data/case52g02S_00000\""
   ]
  },
  {
   "cell_type": "code",
   "execution_count": 39,
   "metadata": {},
   "outputs": [
    {
     "data": {
      "text/plain": [
       "array([1.  , 1.  , 1.  , ..., 0.5 , 0.5 , 0.75])"
      ]
     },
     "execution_count": 39,
     "metadata": {},
     "output_type": "execute_result"
    }
   ],
   "source": [
    "data_f=np.array(get_data_from_binary(filename_f)) \n",
    "data_s=np.array(get_data_from_binary(filename_s)) \n",
    "data=data_f*data_s\n",
    "data"
   ]
  },
  {
   "cell_type": "code",
   "execution_count": 44,
   "metadata": {},
   "outputs": [],
   "source": [
    "test_file=\"binary_test\"\n",
    "# ファイルの保存\n",
    "fmt= 'f' #単精度浮遊小数点数(float)\n",
    "with open(test_file,'wb') as f:\n",
    "    b = [struct.pack(fmt,p) for p in data ]\n",
    "    f.writelines(b)"
   ]
  },
  {
   "cell_type": "code",
   "execution_count": 45,
   "metadata": {},
   "outputs": [
    {
     "data": {
      "text/plain": [
       "array([0., 0., 0., ..., 0., 0., 0.])"
      ]
     },
     "execution_count": 45,
     "metadata": {},
     "output_type": "execute_result"
    }
   ],
   "source": [
    "np.array(get_data_from_binary(test_file)) "
   ]
  }
 ],
 "metadata": {
  "kernelspec": {
   "display_name": "Python 3",
   "language": "python",
   "name": "python3"
  },
  "language_info": {
   "codemirror_mode": {
    "name": "ipython",
    "version": 3
   },
   "file_extension": ".py",
   "mimetype": "text/x-python",
   "name": "python",
   "nbconvert_exporter": "python",
   "pygments_lexer": "ipython3",
   "version": "3.11.9"
  }
 },
 "nbformat": 4,
 "nbformat_minor": 2
}
