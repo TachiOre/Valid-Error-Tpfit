{
 "cells": [
  {
   "cell_type": "markdown",
   "metadata": {},
   "source": [
    "# 流路の可視化\n"
   ]
  },
  {
   "cell_type": "code",
   "execution_count": 2,
   "metadata": {},
   "outputs": [],
   "source": [
    "import struct\n",
    "import numpy as np\n",
    "import os\n",
    "import re\n",
    "import matplotlib\n",
    "from scipy.interpolate import RegularGridInterpolator\n",
    "from scipy.interpolate import interp1d\n",
    "\n",
    "\n",
    "\n",
    "import matplotlib.pyplot as plt\n",
    "from mpl_toolkits.mplot3d.art3d import Poly3DCollection\n",
    "\n",
    "from skimage import measure\n",
    "from skimage.draw import ellipsoid\n"
   ]
  },
  {
   "cell_type": "code",
   "execution_count": 3,
   "metadata": {},
   "outputs": [],
   "source": [
    "# OPTIONAL: Load the \"autoreload\" extension so that code can change\n",
    "%load_ext autoreload\n",
    "\n",
    "# OPTIONAL: always reload modules so that as you change code in src, it gets loaded\n",
    "%autoreload 2"
   ]
  },
  {
   "cell_type": "code",
   "execution_count": 4,
   "metadata": {},
   "outputs": [],
   "source": [
    "from src import OpenFile\n",
    "from src.GridBuilder import interpolate_grid, read_grid_from_bi"
   ]
  },
  {
   "cell_type": "code",
   "execution_count": 5,
   "metadata": {},
   "outputs": [
    {
     "data": {
      "text/plain": [
       "'c:\\\\Users\\\\yucch\\\\00_workstation\\\\Valid-Error-Tpfit\\\\notebooks'"
      ]
     },
     "execution_count": 5,
     "metadata": {},
     "output_type": "execute_result"
    }
   ],
   "source": [
    "#入力データのディレクトリ\n",
    "data_path=r\"input\"\n",
    "# 現在のカレントディレクトリを取得します\n",
    "directory_path = os.getcwd()\n",
    "directory_path"
   ]
  },
  {
   "cell_type": "code",
   "execution_count": 6,
   "metadata": {},
   "outputs": [
    {
     "name": "stdout",
     "output_type": "stream",
     "text": [
      "Folder 'output' already exists in 'c:\\Users\\yucch\\00_workstation\\Valid-Error-Tpfit\\notebooks'.\n",
      "output_path: c:\\Users\\yucch\\00_workstation\\Valid-Error-Tpfit\\notebooks\\output\n"
     ]
    },
    {
     "data": {
      "text/plain": [
       "'case60g02out'"
      ]
     },
     "execution_count": 6,
     "metadata": {},
     "output_type": "execute_result"
    }
   ],
   "source": [
    "t=OpenFile.make_folder(\"output\",directory_path)\n",
    "print(\"output_path:\", t)\n",
    "#shared_name,data_files=OpenFile.get_shared_name(data_path)\n",
    "shared_name=\"case60g02out\"\n",
    "shared_name"
   ]
  },
  {
   "cell_type": "code",
   "execution_count": 7,
   "metadata": {},
   "outputs": [
    {
     "data": {
      "text/plain": [
       "'input\\\\case60g02outS_00000'"
      ]
     },
     "execution_count": 7,
     "metadata": {},
     "output_type": "execute_result"
    }
   ],
   "source": [
    "struct_name=shared_name+\"S_00000\"\n",
    "struct_path=os.path.join(data_path,struct_name)\n",
    "struct_path"
   ]
  },
  {
   "cell_type": "code",
   "execution_count": 8,
   "metadata": {},
   "outputs": [],
   "source": [
    "filename_s=f\"input\\{shared_name}S_00000\""
   ]
  },
  {
   "cell_type": "code",
   "execution_count": 9,
   "metadata": {},
   "outputs": [
    {
     "data": {
      "text/plain": [
       "((60,), (60,), (472,))"
      ]
     },
     "execution_count": 9,
     "metadata": {},
     "output_type": "execute_result"
    }
   ],
   "source": [
    "#座標データ抽出\n",
    "points = read_grid_from_bi(data_path, shared_name)\n",
    "\n",
    "x_points=points[0][1:-1]\n",
    "y_points=points[1][1:-1]\n",
    "z_points=points[2][1:-1]\n",
    "x_points.shape,y_points.shape,z_points.shape\n"
   ]
  },
  {
   "cell_type": "code",
   "execution_count": 10,
   "metadata": {},
   "outputs": [
    {
     "data": {
      "text/plain": [
       "(62, 62, 474)"
      ]
     },
     "execution_count": 10,
     "metadata": {},
     "output_type": "execute_result"
    }
   ],
   "source": [
    "data_shape=(points[0].shape[0],points[1].shape[0],points[2].shape[0])\n",
    "data_shape"
   ]
  },
  {
   "cell_type": "markdown",
   "metadata": {},
   "source": [
    "# 座標点の計算"
   ]
  },
  {
   "cell_type": "code",
   "execution_count": 19,
   "metadata": {},
   "outputs": [
    {
     "data": {
      "text/plain": [
       "(array([-2.50e-05,  2.75e-04, -3.75e-04, -2.50e-05]),\n",
       " array([-1.175e-03, -1.125e-03, -1.225e-03, -2.500e-05]),\n",
       " array([0.000225, 0.000225, 0.000175, 0.016375]))"
      ]
     },
     "execution_count": 19,
     "metadata": {},
     "output_type": "execute_result"
    }
   ],
   "source": [
    "# 該当する座標店の表示\n",
    "x,y,z = np.meshgrid(points[0],points[1],points[2], indexing='ij')\n",
    "\n",
    "plot_points=[ (30,7,5), (36,8,5), (23, 6, 4),(30,30,400)]\n",
    "plot_c = [ 1,5, 5,10]\n",
    "\n",
    "array_x=np.array([x[p] for p in plot_points])\n",
    "array_y=np.array([y[p] for p in plot_points])\n",
    "array_z=np.array([z[p] for p in plot_points])\n",
    "array_c=np.array(plot_c)\n",
    "array_x,array_y,array_z"
   ]
  },
  {
   "cell_type": "markdown",
   "metadata": {},
   "source": [
    "# 流路の描画"
   ]
  },
  {
   "cell_type": "code",
   "execution_count": 20,
   "metadata": {},
   "outputs": [
    {
     "data": {
      "text/plain": [
       "array([0., 0., 0., ..., 0., 0., 0.])"
      ]
     },
     "execution_count": 20,
     "metadata": {},
     "output_type": "execute_result"
    }
   ],
   "source": [
    "data_s_origin=np.array(OpenFile.get_data_from_binary(filename_s)) \n",
    "data_s_origin"
   ]
  },
  {
   "cell_type": "code",
   "execution_count": 21,
   "metadata": {},
   "outputs": [
    {
     "data": {
      "text/plain": [
       "(60, 60, 472)"
      ]
     },
     "execution_count": 21,
     "metadata": {},
     "output_type": "execute_result"
    }
   ],
   "source": [
    "#流路情報の抽出\n",
    "data_s = data_s_origin.reshape(data_shape, order=\"F\")[1:-1,1:-1, 1:-1]\n",
    "data_s.shape"
   ]
  },
  {
   "cell_type": "code",
   "execution_count": 22,
   "metadata": {},
   "outputs": [
    {
     "data": {
      "text/plain": [
       "(30, 30, 200)"
      ]
     },
     "execution_count": 22,
     "metadata": {},
     "output_type": "execute_result"
    }
   ],
   "source": [
    "# 格子幅そろえる処理\n",
    "delta=0.1*10**-3\n",
    "X,Y,Z, data_s_ip=interpolate_grid(x_points,y_points,z_points,data_s,delta)\n",
    "data_shape_after=data_s_ip.shape\n",
    "data_shape_after"
   ]
  },
  {
   "cell_type": "code",
   "execution_count": 23,
   "metadata": {},
   "outputs": [
    {
     "data": {
      "text/plain": [
       "((13620, 3), (27184, 3))"
      ]
     },
     "execution_count": 23,
     "metadata": {},
     "output_type": "execute_result"
    }
   ],
   "source": [
    "verts, faces, normals, values = measure.marching_cubes(data_s_ip, 0.5,spacing=(delta,delta,delta))\n",
    "verts.shape,faces.shape"
   ]
  },
  {
   "cell_type": "code",
   "execution_count": 24,
   "metadata": {},
   "outputs": [
    {
     "data": {
      "text/plain": [
       "(array([[-0.001425  , -0.000375  ,  0.003825  ],\n",
       "        [-0.001375  , -0.00045404,  0.003825  ],\n",
       "        [-0.001375  , -0.000375  ,  0.003775  ],\n",
       "        ...,\n",
       "        [ 0.001375  ,  0.000325  ,  0.012225  ],\n",
       "        [ 0.001375  ,  0.000325  ,  0.012325  ],\n",
       "        [ 0.001375  ,  0.000325  ,  0.012425  ]]),\n",
       " array([[-1.475e-03, -1.475e-03,  2.500e-05]]))"
      ]
     },
     "execution_count": 24,
     "metadata": {},
     "output_type": "execute_result"
    }
   ],
   "source": [
    "#等値面の原点地点にoffsetを掛ける\n",
    "cube_offset=np.array([[np.min(x_points),np.min(y_points),np.min(z_points)]])\n",
    "verts+cube_offset,cube_offset"
   ]
  },
  {
   "cell_type": "markdown",
   "metadata": {},
   "source": [
    "# 座標および流路の可視化"
   ]
  },
  {
   "cell_type": "code",
   "execution_count": 25,
   "metadata": {},
   "outputs": [
    {
     "data": {
      "image/png": "[encoded data removed]",
      "text/plain": [
       "<Figure size 1200x800 with 2 Axes>"
      ]
     },
     "metadata": {},
     "output_type": "display_data"
    }
   ],
   "source": [
    "colormap = plt.get_cmap('jet')\n",
    "norm = matplotlib.colors.Normalize(vmin=0, vmax=np.max(array_c))\n",
    "\n",
    "fig = plt.figure(figsize=(12,8))\n",
    "ax = fig.add_subplot(111, projection = '3d')\n",
    "\n",
    "\n",
    "ax_scatter_obj = ax.scatter(array_x, array_y, array_z, s = 20, c = array_c, cmap = colormap)\n",
    "fig.colorbar(ax_scatter_obj)\n",
    "\n",
    "\n",
    "\n",
    "# Fancy indexing: `verts[faces]` to generate a collection of triangles\n",
    "mesh = Poly3DCollection(verts[faces]+cube_offset,alpha=0.1, facecolors='gray')\n",
    "# mesh.set_edgecolor('')\n",
    "# https://qiita.com/taiko1/items/23379266c1aaa2e67acc\n",
    "\n",
    "ax.add_collection3d(mesh)\n",
    "\n",
    "ax.set_xlabel(\"x-axis\")\n",
    "ax.set_ylabel(\"y-axis\")\n",
    "ax.set_zlabel(\"z-axis\")\n",
    "\n",
    "max_range = np.array([X.max()-X.min(), Y.max()-Y.min(), Z.max()-Z.min()]).max() * 0.5\n",
    "\n",
    "#軸スケール一定\n",
    "mid_x = (X.max()+X.min()) * 0.5\n",
    "mid_y = (Y.max()+Y.min()) * 0.5\n",
    "mid_z = (Z.max()+Z.min()) * 0.5\n",
    "ax.set_xlim(mid_x - max_range, mid_x + max_range)\n",
    "ax.set_ylim(mid_y - max_range, mid_y + max_range)\n",
    "ax.set_zlim(mid_z - max_range, mid_z + max_range)\n",
    "\n",
    "# 真正面から見るための視点を設定する\n",
    "ax.view_init(elev = 0, azim = 0)# elevは仰角（上下の角度）、azimは方位角（左右の角度）\n",
    "\n",
    "\n",
    "plt.show()"
   ]
  },
  {
   "cell_type": "code",
   "execution_count": null,
   "metadata": {},
   "outputs": [],
   "source": []
  },
  {
   "cell_type": "code",
   "execution_count": null,
   "metadata": {},
   "outputs": [],
   "source": []
  }
 ],
 "metadata": {
  "kernelspec": {
   "display_name": "Python 3",
   "language": "python",
   "name": "python3"
  },
  "language_info": {
   "codemirror_mode": {
    "name": "ipython",
    "version": 3
   },
   "file_extension": ".py",
   "mimetype": "text/x-python",
   "name": "python",
   "nbconvert_exporter": "python",
   "pygments_lexer": "ipython3",
   "version": "3.11.9"
  }
 },
 "nbformat": 4,
 "nbformat_minor": 2
}
