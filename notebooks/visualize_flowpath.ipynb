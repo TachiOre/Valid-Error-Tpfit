{
 "cells": [
  {
   "cell_type": "markdown",
   "metadata": {},
   "source": [
    "# 流路の可視化\n"
   ]
  },
  {
   "cell_type": "code",
   "execution_count": 1,
   "metadata": {},
   "outputs": [],
   "source": [
    "import struct\n",
    "import numpy as np\n",
    "import os\n",
    "import re"
   ]
  },
  {
   "cell_type": "code",
   "execution_count": 2,
   "metadata": {},
   "outputs": [],
   "source": [
    "# OPTIONAL: Load the \"autoreload\" extension so that code can change\n",
    "%load_ext autoreload\n",
    "\n",
    "# OPTIONAL: always reload modules so that as you change code in src, it gets loaded\n",
    "%autoreload 2"
   ]
  },
  {
   "cell_type": "code",
   "execution_count": 3,
   "metadata": {},
   "outputs": [],
   "source": [
    "from src import OpenFile"
   ]
  },
  {
   "cell_type": "code",
   "execution_count": 4,
   "metadata": {},
   "outputs": [
    {
     "name": "stdout",
     "output_type": "stream",
     "text": [
      "c:\\Users\\yucca\\00_WorcSpace\\Valid-Error-Tpfit\\venv\\Scripts;C:\\Users\\yucca\\00_WorcSpace\\Valid-Error-Tpfit\\venv\\Scripts;C:\\WINDOWS\\system32;C:\\WINDOWS;C:\\WINDOWS\\System32\\Wbem;C:\\WINDOWS\\System32\\WindowsPowerShell\\v1.0\\;C:\\WINDOWS\\System32\\OpenSSH\\;C:\\Program Files\\Git\\cmd;C:\\Users\\yucca\\AppData\\Local\\Microsoft\\WindowsApps;C:\\Users\\yucca\\AppData\\Local\\Programs\\Microsoft VS Code\\bin;C:\\Users\\yucca\\AppData\\Local\\Programs\\Python\\Python311\\Scripts;\n"
     ]
    }
   ],
   "source": [
    "echo %PATH%"
   ]
  },
  {
   "cell_type": "code",
   "execution_count": 6,
   "metadata": {},
   "outputs": [
    {
     "data": {
      "text/plain": [
       "'c:\\\\Users\\\\yucca\\\\00_WorcSpace\\\\Valid-Error-Tpfit\\\\notebooks'"
      ]
     },
     "execution_count": 6,
     "metadata": {},
     "output_type": "execute_result"
    }
   ],
   "source": [
    "#入力データのディレクトリ\n",
    "data_path=r\"input\"\n",
    "# 現在のカレントディレクトリを取得します\n",
    "directory_path = os.getcwd()\n",
    "directory_path"
   ]
  },
  {
   "cell_type": "code",
   "execution_count": 8,
   "metadata": {},
   "outputs": [
    {
     "name": "stdout",
     "output_type": "stream",
     "text": [
      "Folder 'output' already exists in 'c:\\Users\\yucca\\00_WorcSpace\\Valid-Error-Tpfit\\notebooks'.\n",
      "output_path: c:\\Users\\yucca\\00_WorcSpace\\Valid-Error-Tpfit\\notebooks\\output\n"
     ]
    },
    {
     "data": {
      "text/plain": [
       "'case60g02out'"
      ]
     },
     "execution_count": 8,
     "metadata": {},
     "output_type": "execute_result"
    }
   ],
   "source": [
    "t=OpenFile.make_folder(\"output\",directory_path)\n",
    "print(\"output_path:\", t)\n",
    "#shared_name,data_files=OpenFile.get_shared_name(data_path)\n",
    "shared_name=\"case60g02out\"\n",
    "\n",
    "shared_name"
   ]
  },
  {
   "cell_type": "code",
   "execution_count": 9,
   "metadata": {},
   "outputs": [
    {
     "data": {
      "text/plain": [
       "'input\\\\case60g02outS_00000'"
      ]
     },
     "execution_count": 9,
     "metadata": {},
     "output_type": "execute_result"
    }
   ],
   "source": [
    "struct_name=shared_name+\"S_00000\"\n",
    "struct_path=os.path.join(data_path,struct_name)\n",
    "struct_path"
   ]
  },
  {
   "cell_type": "code",
   "execution_count": 18,
   "metadata": {},
   "outputs": [],
   "source": [
    "filename_s=f\"input\\{shared_name}S_00000\""
   ]
  },
  {
   "cell_type": "code",
   "execution_count": 27,
   "metadata": {},
   "outputs": [
    {
     "data": {
      "text/plain": [
       "array([0., 0., 0., ..., 0., 0., 0.])"
      ]
     },
     "execution_count": 27,
     "metadata": {},
     "output_type": "execute_result"
    }
   ],
   "source": [
    "data_s_origin=np.array(OpenFile.get_data_from_binary(filename_s)) \n",
    "data_s_origin"
   ]
  },
  {
   "cell_type": "code",
   "execution_count": 39,
   "metadata": {},
   "outputs": [],
   "source": [
    "#座標データ抽出\n",
    "points = []\n",
    "for d in [\"X\",\"Y\",\"Z\"]:\n",
    "\n",
    "    data_path_ndim=f\"{data_path}/{shared_name}{d}_00000\"\n",
    "    #ファイル読み込み\n",
    "    with open(data_path_ndim, 'rb') as file:\n",
    "        # バイナリデータを読み取り\n",
    "        binary_data_ndim = file.read()\n",
    "  \n",
    "    # バイナリデータを文字列に変換（適切なエンコーディングを指定）\n",
    "    text_data = binary_data_ndim.decode('utf-8')  # 例としてUTF-8を使用\n",
    "\n",
    "    # 正規表現を使って「X-Axis Coordinate」に関連するデータを抽出\n",
    "    pattern_d= re.compile(r'{}-Axis Coordinate\\n([\\s\\S]*?)(?=\\n[A-Z]|$)'.format(d))\n",
    "    match_d = pattern_d.search(text_data)\n",
    "    if match_d:\n",
    "        coordinates = match_d.group(1).strip().split()\n",
    "        # 数値を浮動小数点数に変換\n",
    "        coordinates = np.array([float(coord) for coord in coordinates] )\n",
    "        points.append(coordinates)"
   ]
  },
  {
   "cell_type": "code",
   "execution_count": 40,
   "metadata": {},
   "outputs": [
    {
     "data": {
      "text/plain": [
       "((60,), (60,), (472,))"
      ]
     },
     "execution_count": 40,
     "metadata": {},
     "output_type": "execute_result"
    }
   ],
   "source": [
    "x_points=points[0][1:-1]\n",
    "y_points=points[1][1:-1]\n",
    "z_points=points[2][1:-1]\n",
    "x_points.shape,y_points.shape,z_points.shape"
   ]
  },
  {
   "cell_type": "code",
   "execution_count": 41,
   "metadata": {},
   "outputs": [
    {
     "data": {
      "text/plain": [
       "(array([-0.001525,  0.001525]),\n",
       " array([-0.001525,  0.001525]),\n",
       " array([-2.5000e-05,  2.0025e-02]))"
      ]
     },
     "execution_count": 41,
     "metadata": {},
     "output_type": "execute_result"
    }
   ],
   "source": [
    "x_crop=points[0][[0,-1]]\n",
    "y_crop=points[1][[0,-1]]\n",
    "z_crop=points[2][[0,-1]]\n",
    "x_crop,y_crop,z_crop"
   ]
  },
  {
   "cell_type": "code",
   "execution_count": 42,
   "metadata": {},
   "outputs": [
    {
     "data": {
      "text/plain": [
       "(62, 62, 474)"
      ]
     },
     "execution_count": 42,
     "metadata": {},
     "output_type": "execute_result"
    }
   ],
   "source": [
    "data_shape=(points[0].shape[0],points[1].shape[0],points[2].shape[0])\n",
    "data_shape"
   ]
  },
  {
   "cell_type": "code",
   "execution_count": 43,
   "metadata": {},
   "outputs": [
    {
     "data": {
      "text/plain": [
       "(60, 60, 472)"
      ]
     },
     "execution_count": 43,
     "metadata": {},
     "output_type": "execute_result"
    }
   ],
   "source": [
    "data_s = data_s_origin.reshape(data_shape, order=\"F\")[1:-1,1:-1, 1:-1]\n",
    "data_s.shape"
   ]
  },
  {
   "cell_type": "code",
   "execution_count": 69,
   "metadata": {},
   "outputs": [],
   "source": [
    "plot_points=[ (0,1,2), (30,30,10), (30,30,400)]\n",
    "\n",
    "plot_c = [ 1,5, 300]"
   ]
  },
  {
   "cell_type": "code",
   "execution_count": 71,
   "metadata": {},
   "outputs": [
    {
     "name": "stdout",
     "output_type": "stream",
     "text": [
      "(62, 62, 474)\n",
      "(0, 1, 2)\n",
      "1 (np.float64(-0.001525), np.float64(-0.001475), np.float64(7.5e-05))\n",
      "(30, 30, 10)\n",
      "5 (np.float64(-2.5e-05), np.float64(-2.5e-05), np.float64(0.000475))\n",
      "(30, 30, 400)\n",
      "300 (np.float64(-2.5e-05), np.float64(-2.5e-05), np.float64(0.016375))\n"
     ]
    }
   ],
   "source": [
    "x,y,z = np.meshgrid(points[0],points[1],points[2], indexing='ij')\n",
    "print(z.shape)\n",
    "for i, index in enumerate(plot_points):\n",
    "    print(index)\n",
    "    print(plot_c[i],(x[index],y[index],z[index]))"
   ]
  },
  {
   "cell_type": "code",
   "execution_count": 72,
   "metadata": {},
   "outputs": [],
   "source": [
    "# 流路の描画\n",
    "# 座標点のプロット"
   ]
  },
  {
   "cell_type": "code",
   "execution_count": null,
   "metadata": {},
   "outputs": [],
   "source": []
  },
  {
   "cell_type": "code",
   "execution_count": null,
   "metadata": {},
   "outputs": [],
   "source": []
  }
 ],
 "metadata": {
  "kernelspec": {
   "display_name": "Python 3",
   "language": "python",
   "name": "python3"
  },
  "language_info": {
   "codemirror_mode": {
    "name": "ipython",
    "version": 3
   },
   "file_extension": ".py",
   "mimetype": "text/x-python",
   "name": "python",
   "nbconvert_exporter": "python",
   "pygments_lexer": "ipython3",
   "version": "3.11.9"
  }
 },
 "nbformat": 4,
 "nbformat_minor": 2
}
